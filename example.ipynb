{
  "nbformat": 4,
  "nbformat_minor": 0,
  "metadata": {
    "colab": {
      "provenance": [],
      "gpuType": "T4"
    },
    "kernelspec": {
      "name": "python3",
      "display_name": "Python 3"
    },
    "language_info": {
      "name": "python"
    },
    "accelerator": "GPU"
  },
  "cells": [
    {
      "cell_type": "markdown",
      "source": [
        "# Authenticate"
      ],
      "metadata": {
        "id": "nlYjvlNQp5Ro"
      }
    },
    {
      "cell_type": "code",
      "execution_count": null,
      "metadata": {
        "id": "doZo0GocnLKc"
      },
      "outputs": [],
      "source": [
        "from os import environ as env\n",
        "\n",
        "env['KAGGLE_KEY'] = 'your-kaggle-api-key-here'\n",
        "env['KAGGLE_USERNAME'] = 'your-kaggle-username-here'"
      ]
    },
    {
      "cell_type": "markdown",
      "source": [
        "# Download input data"
      ],
      "metadata": {
        "id": "tdx91xlqp9NR"
      }
    },
    {
      "cell_type": "code",
      "source": [
        "!kaggle datasets download -d zeionara/anecdotes -f anecdotes.tsv --unzip\n",
        "!unzip -o anecdotes.tsv.zip"
      ],
      "metadata": {
        "id": "1SJBZYTvn-f3"
      },
      "execution_count": null,
      "outputs": []
    },
    {
      "cell_type": "markdown",
      "source": [
        "# Generate speech\n",
        "\n",
        "## Install dependencies"
      ],
      "metadata": {
        "id": "ApRVXtHNqUD-"
      }
    },
    {
      "cell_type": "code",
      "source": [
        "!pip install git+https://github.com/zeionara/raconteur.git\n",
        "!sudo apt-get install libportaudio2"
      ],
      "metadata": {
        "id": "dx5adZf_VDG2"
      },
      "execution_count": null,
      "outputs": []
    },
    {
      "cell_type": "markdown",
      "source": [
        "## Generate speech on anecodtes from the dataset"
      ],
      "metadata": {
        "id": "vOt9zV5itJrB"
      }
    },
    {
      "cell_type": "code",
      "source": [
        "from os import path, makedirs\n",
        "from time import time\n",
        "\n",
        "from pandas import read_csv\n",
        "\n",
        "from rr import RuTTS, Splitter\n",
        "\n",
        "ROOT_PATH = 'aneks'\n",
        "\n",
        "if not path.isdir(ROOT_PATH):\n",
        "  makedirs(ROOT_PATH)\n",
        "\n",
        "df = read_csv('anecdotes.tsv', sep = '\\t')\n",
        "\n",
        "n_aneks = 0\n",
        "\n",
        "# speaker = Bark(artist = 'v2/ru_speaker_6', splitter = Splitter(max_n_characters = 200))\n",
        "speaker = RuTTS(splitter = Splitter(max_n_characters = 1000), add_time_to_end = 0.1, length_scale = 1.65, gpu = True)\n",
        "\n",
        "start = time()\n",
        "\n",
        "for _, row in df.iloc[2:3,].loc[:,('id', 'text')].iterrows():\n",
        "  text = row['text']\n",
        "\n",
        "  audio = bark.speak(\n",
        "      text = text,\n",
        "      filename = path.join(ROOT_PATH, f'{row[\"id\"]:08d}.mp3')\n",
        "  )\n",
        "\n",
        "  print(text)\n",
        "  display(audio)\n",
        "\n",
        "  n_aneks += 1\n",
        "\n",
        "  print(f'Handled {n_aneks} aneks')\n",
        "\n",
        "elapsed = time() - start\n",
        "print(f'Handled {n_aneks} aneks in {elapsed:.5f} seconds ({elapsed / n_aneks:.5f} seconds per anek in average)')"
      ],
      "metadata": {
        "id": "bZie9jlftOMV"
      },
      "execution_count": null,
      "outputs": []
    }
  ]
}